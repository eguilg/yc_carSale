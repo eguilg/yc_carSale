{
 "cells": [
  {
   "cell_type": "code",
   "execution_count": null,
   "metadata": {
    "collapsed": true
   },
   "outputs": [],
   "source": [
    "import pandas as pd\n",
    "import numpy as np\n",
    "import matplotlib.pyplot as plt\n",
    "import matplotlib.dates as mdate\n"
   ]
  },
  {
   "cell_type": "heading",
   "metadata": {
    "collapsed": true
   },
   "level": 1,
   "source": [
    "数据中na值由‘-’表示，并且power列有非float值‘81/70’需要处理"
   ]
  },
  {
   "cell_type": "code",
   "execution_count": 65,
   "metadata": {},
   "outputs": [
    {
     "name": "stdout",
     "output_type": "stream",
     "text": [
      "<class 'pandas.core.frame.DataFrame'>\nRangeIndex: 20157 entries, 0 to 20156\nData columns (total 32 columns):\nsale_date                20157 non-null int64\nclass_id                 20157 non-null int64\nsale_quantity            20157 non-null int64\nbrand_id                 20157 non-null int64\ncompartment              20157 non-null int64\ntype_id                  20157 non-null int64\nlevel_id                 19859 non-null float64\ndepartment_id            20157 non-null int64\nTR                       20157 non-null object\ngearbox_type             20157 non-null object\ndisplacement             20157 non-null float64\nif_charging              20157 non-null object\nprice_level              20157 non-null object\nprice                    11377 non-null float64\ndriven_type_id           20157 non-null int64\nfuel_type_id             20154 non-null float64\nnewenergy_type_id        20157 non-null int64\nemission_standards_id    20157 non-null int64\nif_MPV_id                20157 non-null int64\nif_luxurious_id          20157 non-null int64\npower                    20154 non-null float64\ncylinder_number          20157 non-null int64\nengine_torque            20138 non-null object\ncar_length               20157 non-null int64\ncar_width                20157 non-null int64\ncar_height               20157 non-null int64\ntotal_quality            20157 non-null int64\nequipment_quality        20157 non-null int64\nrated_passenger          20157 non-null object\nwheelbase                20157 non-null int64\nfront_track              20157 non-null int64\nrear_track               20157 non-null int64\ndtypes: float64(5), int64(21), object(6)\nmemory usage: 4.9+ MB\n"
     ]
    },
    {
     "name": "stderr",
     "output_type": "stream",
     "text": [
      "E:\\Anaconda3\\lib\\site-packages\\IPython\\core\\interactiveshell.py:2698: DtypeWarning: Columns (22) have mixed types. Specify dtype option on import or set low_memory=False.\n  interactivity=interactivity, compiler=compiler, result=result)\n"
     ]
    }
   ],
   "source": [
    "# parser = lambda date: pd.datetime.strptime(date, '%Y%m')\n",
    "train_data = pd.read_csv('data/yancheng_train.csv',na_values=['-'])\n",
    "train_data.info()\n",
    "\n"
   ]
  },
  {
   "cell_type": "heading",
   "metadata": {
    "collapsed": false
   },
   "level": 1,
   "source": [
    "发现\n",
    "price列有大量缺失值(44.5%),\n",
    "level_id缺失658个\n",
    "engine_torque有少量缺失(19个),\n",
    "fuel_type_id缺失3个,可以根据其他数据手动填补,\n",
    "power缺失3个可以根据其他数据手动填补.\n"
   ]
  },
  {
   "cell_type": "heading",
   "metadata": {
    "collapsed": false
   },
   "level": 1,
   "source": [
    "如下，找到了power和fuel_type_id的三个缺失值所在。175962、961962型号,考察车型之后可手动填值"
   ]
  },
  {
   "cell_type": "code",
   "execution_count": 86,
   "metadata": {
    "collapsed": false
   },
   "outputs": [
    {
     "name": "stdout",
     "output_type": "stream",
     "text": [
      "(array([201201, 201202, 201203, 201204, 201205, 201206, 201207, 201208,\n       201209, 201210, 201211, 201212, 201301, 201302, 201303, 201304,\n       201305, 201306, 201307, 201308, 201309, 201310, 201311, 201312,\n       201401, 201402, 201403, 201404, 201405, 201406, 201407, 201408,\n       201409, 201410, 201411, 201412, 201501, 201502, 201503, 201504,\n       201505, 201506, 201507, 201508, 201509, 201510, 201511, 201512,\n       201601, 201602, 201603, 201604, 201605, 201606, 201607, 201608,\n       201609, 201610, 201611, 201612, 201701, 201702, 201703, 201704,\n       201705, 201706, 201707, 201708, 201709, 201710], dtype=int64), array([171, 153, 168, 156, 166, 159, 176, 172, 187, 183, 184, 183, 213,\n       188, 178, 192, 193, 195, 211, 218, 225, 235, 235, 221, 260, 230,\n       240, 256, 278, 267, 301, 299, 348, 342, 330, 347,  22,  23,  27,\n        22,  21,  18,  21,  26,  24,  25,  24,  28,  30,  31,  29,  22,\n        17,  17,  16,  18,  18,  17,  14,  14,  17,  18,  19,  17,  19,\n        23,  20,  23,  25,  15], dtype=int64))\n"
     ]
    }
   ],
   "source": [
    "train_data[train_data.fuel_type_id != train_data.fuel_type_id]\n"
   ]
  },
  {
   "cell_type": "heading",
   "metadata": {
    "collapsed": false
   },
   "level": 1,
   "source": [
    "发现level_id空值全部来自178529"
   ]
  },
  {
   "cell_type": "code",
   "execution_count": 82,
   "metadata": {
    "collapsed": false
   },
   "outputs": [
    {
     "name": "stdout",
     "output_type": "stream",
     "text": [
      "(array([201201, 201202, 201203, 201204, 201205, 201206, 201207, 201208,\n       201209, 201210, 201211, 201212, 201301, 201302, 201303, 201304,\n       201305, 201306, 201307, 201308, 201309, 201310, 201311, 201312,\n       201401, 201402, 201403, 201404, 201405, 201406, 201407, 201408,\n       201409, 201410, 201411, 201412, 201501, 201502, 201503, 201504,\n       201505, 201506, 201507, 201508, 201509, 201510, 201511, 201512,\n       201601, 201602, 201603, 201604, 201605, 201606, 201607, 201608,\n       201609, 201610, 201611, 201612, 201701, 201702, 201703, 201704,\n       201705, 201706, 201707, 201708, 201709, 201710], dtype=int64), array([171, 153, 168, 156, 166, 159, 176, 172, 187, 183, 184, 183, 213,\n       188, 178, 192, 193, 195, 211, 218, 225, 235, 235, 221, 260, 230,\n       240, 256, 278, 267, 301, 299, 348, 342, 330, 347,  22,  23,  27,\n        22,  21,  18,  21,  26,  24,  25,  24,  28,  30,  31,  29,  22,\n        17,  17,  16,  18,  18,  17,  14,  14,  17,  18,  19,  17,  19,\n        23,  20,  23,  25,  15], dtype=int64))\n"
     ]
    }
   ],
   "source": [
    "print(np.unique(train_data[train_data.level_id != train_data.level_id].class_id))\n"
   ]
  },
  {
   "cell_type": "code",
   "execution_count": 87,
   "metadata": {
    "collapsed": false
   },
   "outputs": [
    {
     "name": "stdout",
     "output_type": "stream",
     "text": [
      "(array([201201, 201202, 201203, 201204, 201205, 201206, 201207, 201208,\n       201209, 201210, 201211, 201212, 201301, 201302, 201303, 201304,\n       201305, 201306, 201307, 201308, 201309, 201310, 201311, 201312,\n       201401, 201402, 201403, 201404, 201405, 201406, 201407, 201408,\n       201409, 201410, 201411, 201412, 201501, 201502, 201503, 201504,\n       201505, 201506, 201507, 201508, 201509, 201510, 201511, 201512,\n       201601, 201602, 201603, 201604, 201605, 201606, 201607, 201608,\n       201609, 201610, 201611, 201612, 201701, 201702, 201703, 201704,\n       201705, 201706, 201707, 201708, 201709, 201710], dtype=int64), array([171, 153, 168, 156, 166, 159, 176, 172, 187, 183, 184, 183, 213,\n       188, 178, 192, 193, 195, 211, 218, 225, 235, 235, 221, 260, 230,\n       240, 256, 278, 267, 301, 299, 348, 342, 330, 347,  22,  23,  27,\n        22,  21,  18,  21,  26,  24,  25,  24,  28,  30,  31,  29,  22,\n        17,  17,  16,  18,  18,  17,  14,  14,  17,  18,  19,  17,  19,\n        23,  20,  23,  25,  15], dtype=int64))\n"
     ]
    }
   ],
   "source": [
    "train_data.groupby(['class_id','sale_date']).\n"
   ]
  },
  {
   "cell_type": "code",
   "execution_count": null,
   "metadata": {
    "collapsed": false
   },
   "outputs": [
    {
     "name": "stdout",
     "output_type": "stream",
     "text": [
      "(array([201201, 201202, 201203, 201204, 201205, 201206, 201207, 201208,\n       201209, 201210, 201211, 201212, 201301, 201302, 201303, 201304,\n       201305, 201306, 201307, 201308, 201309, 201310, 201311, 201312,\n       201401, 201402, 201403, 201404, 201405, 201406, 201407, 201408,\n       201409, 201410, 201411, 201412, 201501, 201502, 201503, 201504,\n       201505, 201506, 201507, 201508, 201509, 201510, 201511, 201512,\n       201601, 201602, 201603, 201604, 201605, 201606, 201607, 201608,\n       201609, 201610, 201611, 201612, 201701, 201702, 201703, 201704,\n       201705, 201706, 201707, 201708, 201709, 201710], dtype=int64), array([171, 153, 168, 156, 166, 159, 176, 172, 187, 183, 184, 183, 213,\n       188, 178, 192, 193, 195, 211, 218, 225, 235, 235, 221, 260, 230,\n       240, 256, 278, 267, 301, 299, 348, 342, 330, 347,  22,  23,  27,\n        22,  21,  18,  21,  26,  24,  25,  24,  28,  30,  31,  29,  22,\n        17,  17,  16,  18,  18,  17,  14,  14,  17,  18,  19,  17,  19,\n        23,  20,  23,  25,  15], dtype=int64))\n"
     ]
    }
   ],
   "source": [
    " \n",
    "\n",
    "train_data['level_id'].fillna(-1,inplace=True) \n",
    "train_data['level_id'].astype(int)\n",
    "train_data['power'].fillna(75.5,inplace=True)\n",
    "train_data['power'].astype(float)\n",
    "train_data['fuel_type_id'].fillna(1,inplace=True)\n",
    "train_data['fuel_type_id'].astype(int)\n",
    "for name in ['brand_id', 'price_level','type_id', 'level_id','department_id',\\\n",
    "             'TR', 'gearbox_type', 'price_level','driven_type_id', \\\n",
    "             'newenergy_type_id','emission_standards_id',\\\n",
    "             'cylinder_number','rated_passenger','if_MPV_id',\\\n",
    "             'if_luxurious_id','power','fuel_type_id']:\n",
    "    print(name,len(np.unique(train_data[name])))\n"
   ]
  },
  {
   "cell_type": "code",
   "execution_count": 41,
   "metadata": {
    "collapsed": false
   },
   "outputs": [
    {
     "data": {
      "text/plain": [
       "6190     3.0\n8766     3.0\n13743    3.0\n5465     3.0\n6470     3.0\n7399     3.0\n12112    3.0\n14425    3.0\n15196    3.0\n7097     3.0\n7487     3.0\n10163    3.0\n10605    3.0\n13333    3.0\n13820    3.0\n6797     3.0\n7032     3.0\n9738     3.0\n12513    3.0\n15250    3.0\n16795    3.0\n17085    3.0\n5425     3.0\n5879     3.0\n9515     3.0\n10634    3.0\n15371    3.0\n17083    3.0\n10187    3.0\n11296    3.0\n        ... \n1432     1.0\n1740     1.0\n2065     1.0\n3089     1.0\n2127     1.0\n2627     1.0\n2785     1.0\n3391     1.0\n2452     1.0\n3238     1.0\n3908     1.0\n3928     1.0\n2995     1.0\n3386     1.0\n3474     1.0\n3700     1.0\n2080     1.0\n2692     1.0\n3914     1.0\n4635     1.0\n2927     1.0\n3014     1.0\n3446     1.0\n4656     1.0\n3745     1.0\n4626     1.0\n4854     1.0\n4855     1.0\n3876     1.0\n4390     1.0\nName: level_id, Length: 20157, dtype: float64"
      ]
     },
     "execution_count": 41,
     "metadata": {},
     "output_type": "execute_result"
    }
   ],
   "source": [
    "train_data['level_id']"
   ]
  },
  {
   "cell_type": "code",
   "execution_count": null,
   "metadata": {},
   "outputs": [],
   "source": []
  }
 ],
 "metadata": {
  "kernelspec": {
   "display_name": "Python 3",
   "language": "python",
   "name": "python3"
  },
  "language_info": {
   "codemirror_mode": {
    "name": "ipython",
    "version": 3
   },
   "file_extension": ".py",
   "mimetype": "text/x-python",
   "name": "python",
   "nbconvert_exporter": "python",
   "pygments_lexer": "ipython3",
   "version": "3.6.3"
  }
 },
 "nbformat": 4,
 "nbformat_minor": 1
}
