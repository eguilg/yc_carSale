{
 "cells": [
  {
   "cell_type": "code",
   "execution_count": null,
   "metadata": {
    "collapsed": true
   },
   "outputs": [],
   "source": [
    "import pandas as pd\n",
    "import numpy as np\n",
    "import matplotlib.pyplot as plt\n",
    "import matplotlib.dates as mdate\n"
   ]
  },
  {
   "cell_type": "code",
   "execution_count": 26,
   "metadata": {},
   "outputs": [
    {
     "name": "stderr",
     "output_type": "stream",
     "text": [
      "C:\\ProgramData\\Anaconda3\\lib\\site-packages\\IPython\\core\\interactiveshell.py:2698: DtypeWarning: Columns (15,20) have mixed types. Specify dtype option on import or set low_memory=False.\n  interactivity=interactivity, compiler=compiler, result=result)\n"
     ]
    },
    {
     "data": {
      "text/plain": [
       "Index(['sale_date', 'class_id', 'sale_quantity', 'brand_id', 'compartment',\n       'type_id', 'level_id', 'department_id', 'TR', 'gearbox_type',\n       'displacement', 'if_charging', 'price_level', 'price', 'driven_type_id',\n       'fuel_type_id', 'newenergy_type_id', 'emission_standards_id',\n       'if_MPV_id', 'if_luxurious_id', 'power', 'cylinder_number',\n       'engine_torque', 'car_length', 'car_width', 'car_height',\n       'total_quality', 'equipment_quality', 'rated_passenger', 'wheelbase',\n       'front_track', 'rear_track'],\n      dtype='object')"
      ]
     },
     "execution_count": 26,
     "metadata": {},
     "output_type": "execute_result"
    }
   ],
   "source": [
    "parser = lambda date: pd.datetime.strptime(date, '%Y%m')\n",
    "train_data = pd.read_csv('data/yancheng_train.csv',parse_dates=['sale_date'],date_parser=parser)\n",
    "train_data.columns"
   ]
  },
  {
   "cell_type": "code",
   "execution_count": 27,
   "metadata": {
    "collapsed": true
   },
   "outputs": [],
   "source": [
    "# class_ids = np.unique(train_data['class_id'])\n",
    "train_data.sort_values(by=['sale_date'],inplace=True)\n",
    "sale_quantity_perclass = train_data[['sale_date','class_id','sale_quantity']].groupby(by=['sale_date','class_id'],as_index=False).sum()"
   ]
  },
  {
   "cell_type": "code",
   "execution_count": 28,
   "metadata": {
    "collapsed": true
   },
   "outputs": [
    {
     "data": {
      "text/plain": [
       "(array(['2012-01-01T00:00:00.000000000', '2012-02-01T00:00:00.000000000',\n        '2012-03-01T00:00:00.000000000', '2012-04-01T00:00:00.000000000',\n        '2012-05-01T00:00:00.000000000', '2012-06-01T00:00:00.000000000',\n        '2012-07-01T00:00:00.000000000', '2012-08-01T00:00:00.000000000',\n        '2012-09-01T00:00:00.000000000', '2012-10-01T00:00:00.000000000',\n        '2012-11-01T00:00:00.000000000', '2012-12-01T00:00:00.000000000',\n        '2013-01-01T00:00:00.000000000', '2013-02-01T00:00:00.000000000',\n        '2013-03-01T00:00:00.000000000', '2013-04-01T00:00:00.000000000',\n        '2013-05-01T00:00:00.000000000', '2013-06-01T00:00:00.000000000',\n        '2013-07-01T00:00:00.000000000', '2013-08-01T00:00:00.000000000',\n        '2013-09-01T00:00:00.000000000', '2013-10-01T00:00:00.000000000',\n        '2013-11-01T00:00:00.000000000', '2013-12-01T00:00:00.000000000',\n        '2014-01-01T00:00:00.000000000', '2014-02-01T00:00:00.000000000',\n        '2014-03-01T00:00:00.000000000', '2014-04-01T00:00:00.000000000',\n        '2014-05-01T00:00:00.000000000', '2014-06-01T00:00:00.000000000',\n        '2014-07-01T00:00:00.000000000', '2014-08-01T00:00:00.000000000',\n        '2014-09-01T00:00:00.000000000', '2014-10-01T00:00:00.000000000',\n        '2014-11-01T00:00:00.000000000', '2014-12-01T00:00:00.000000000',\n        '2015-01-01T00:00:00.000000000', '2015-02-01T00:00:00.000000000',\n        '2015-03-01T00:00:00.000000000', '2015-04-01T00:00:00.000000000',\n        '2015-05-01T00:00:00.000000000', '2015-06-01T00:00:00.000000000',\n        '2015-07-01T00:00:00.000000000', '2015-08-01T00:00:00.000000000',\n        '2015-09-01T00:00:00.000000000', '2015-10-01T00:00:00.000000000',\n        '2015-11-01T00:00:00.000000000', '2015-12-01T00:00:00.000000000',\n        '2016-01-01T00:00:00.000000000', '2016-02-01T00:00:00.000000000',\n        '2016-03-01T00:00:00.000000000', '2016-04-01T00:00:00.000000000',\n        '2016-05-01T00:00:00.000000000', '2016-06-01T00:00:00.000000000',\n        '2016-07-01T00:00:00.000000000', '2016-08-01T00:00:00.000000000',\n        '2016-09-01T00:00:00.000000000', '2016-10-01T00:00:00.000000000',\n        '2016-11-01T00:00:00.000000000', '2016-12-01T00:00:00.000000000',\n        '2017-01-01T00:00:00.000000000', '2017-02-01T00:00:00.000000000',\n        '2017-03-01T00:00:00.000000000', '2017-04-01T00:00:00.000000000',\n        '2017-05-01T00:00:00.000000000', '2017-06-01T00:00:00.000000000',\n        '2017-07-01T00:00:00.000000000', '2017-08-01T00:00:00.000000000',\n        '2017-09-01T00:00:00.000000000', '2017-10-01T00:00:00.000000000'], dtype='datetime64[ns]'),\n array([ 42,  43,  44,  45,  46,  44,  46,  45,  47,  48,  49,  51,  51,\n         50,  52,  53,  55,  55,  56,  57,  59,  59,  61,  60,  62,  62,\n         61,  61,  63,  65,  66,  69,  71,  73,  74,  75,  78,  79,  80,\n         80,  82,  83,  86,  87,  89,  89,  90,  91,  92,  94,  98, 100,\n        100, 103, 105, 105, 109, 112, 118, 118, 120, 121, 125, 126, 126,\n        130, 135, 136, 140, 140], dtype=int64))"
      ]
     },
     "execution_count": 28,
     "metadata": {},
     "output_type": "execute_result"
    }
   ],
   "source": [
    "np.unique(sale_quantity_perclass['sale_date'],return_counts=True)"
   ]
  },
  {
   "cell_type": "code",
   "execution_count": null,
   "metadata": {
    "collapsed": false
   },
   "outputs": [],
   "source": [
    "classes, class_sale_counts = np.unique(sale_quantity_perclass['class_id'],return_counts=True)"
   ]
  },
  {
   "cell_type": "code",
   "execution_count": 6,
   "metadata": {},
   "outputs": [
    {
     "data": {
      "text/plain": [
       "array([125403, 136916, 178529, 209945, 248352, 281301, 290854, 291086,\n       304458, 321683, 349023, 354068, 379876, 384924, 409854, 425432,\n       468392, 472603, 482497, 527809, 559132, 576298, 580470, 597927,\n       603972, 614059, 628041, 651347, 682651, 713651, 714152, 735971,\n       819061, 883691, 914348, 961362, 961962], dtype=int64)"
      ]
     },
     "execution_count": 6,
     "metadata": {},
     "output_type": "execute_result"
    }
   ],
   "source": [
    "classes_most_recorded = classes[class_sale_counts>=70]\n",
    "classes_most_recorded"
   ]
  },
  {
   "cell_type": "code",
   "execution_count": 55,
   "metadata": {},
   "outputs": [],
   "source": [
    "fig = plt.figure(figsize=(20,10))\n",
    "ax1=fig.add_subplot(111)\n",
    "for id in classes:\n",
    "    tp = sale_quantity_perclass[sale_quantity_perclass.class_id == id]\n",
    "    ax1.plot(tp.sale_date,tp.sale_quantity)\n",
    "\n",
    "ax1.set_xlabel('sale_date')\n",
    "ax1.set_xticks(pd.date_range(pd.datetime.strptime('201201','%Y%m'),pd.datetime.strptime('201712','%Y%m'),freq='M'))\n",
    "ax1.set_xticklabels(pd.date_range(pd.datetime.strptime('201201','%Y%m'),pd.datetime.strptime('201712','%Y%m'),freq='M'),rotation=60)\n",
    "ax1.xaxis.set_major_formatter(mdate.DateFormatter('%Y%m'))\n",
    "ax1.set_ylabel('sale_quantity')\n",
    "ax1.set_yticks(np.arange(0,8500,500))\n",
    "plt.savefig('sales.png')\n",
    "plt.show()\n",
    "    "
   ]
  },
  {
   "cell_type": "code",
   "execution_count": null,
   "metadata": {},
   "outputs": [],
   "source": []
  }
 ],
 "metadata": {
  "kernelspec": {
   "display_name": "Python 2",
   "language": "python",
   "name": "python2"
  },
  "language_info": {
   "codemirror_mode": {
    "name": "ipython",
    "version": 2
   },
   "file_extension": ".py",
   "mimetype": "text/x-python",
   "name": "python",
   "nbconvert_exporter": "python",
   "pygments_lexer": "ipython2",
   "version": "2.7.6"
  }
 },
 "nbformat": 4,
 "nbformat_minor": 0
}
