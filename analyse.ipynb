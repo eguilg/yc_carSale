{
 "cells": [
  {
   "cell_type": "code",
   "execution_count": null,
   "metadata": {
    "collapsed": true
   },
   "outputs": [],
   "source": [
    "import pandas as pd\n",
    "import numpy as np\n",
    "import matplotlib.pyplot as plt\n",
    "import re\n",
    " "
   ]
  },
  {
   "cell_type": "code",
   "execution_count": 2,
   "metadata": {},
   "outputs": [
    {
     "name": "stderr",
     "output_type": "stream",
     "text": [
      "E:\\Anaconda3\\lib\\site-packages\\IPython\\core\\interactiveshell.py:2698: DtypeWarning: Columns (15,20) have mixed types. Specify dtype option on import or set low_memory=False.\n  interactivity=interactivity, compiler=compiler, result=result)\n"
     ]
    },
    {
     "data": {
      "text/plain": [
       "Index(['sale_date', 'class_id', 'sale_quantity', 'brand_id', 'compartment',\n       'type_id', 'level_id', 'department_id', 'TR', 'gearbox_type',\n       'displacement', 'if_charging', 'price_level', 'price', 'driven_type_id',\n       'fuel_type_id', 'newenergy_type_id', 'emission_standards_id',\n       'if_MPV_id', 'if_luxurious_id', 'power', 'cylinder_number',\n       'engine_torque', 'car_length', 'car_width', 'car_height',\n       'total_quality', 'equipment_quality', 'rated_passenger', 'wheelbase',\n       'front_track', 'rear_track'],\n      dtype='object')"
      ]
     },
     "execution_count": 2,
     "metadata": {},
     "output_type": "execute_result"
    }
   ],
   "source": [
    "train_data = pd.read_csv('data/yancheng_train.csv')\n",
    "train_data.columns"
   ]
  },
  {
   "cell_type": "code",
   "execution_count": 7,
   "metadata": {
    "collapsed": true
   },
   "outputs": [],
   "source": [
    "# class_ids = np.unique(train_data['class_id'])\n",
    "sale_quantity_perclass = train_data[['sale_date','class_id','sale_quantity']]\\\n",
    "                            .groupby(by=['sale_date','class_id'],as_index=False).sum()"
   ]
  },
  {
   "cell_type": "code",
   "execution_count": 10,
   "metadata": {},
   "outputs": [
    {
     "data": {
      "text/plain": [
       "(array([201201, 201202, 201203, 201204, 201205, 201206, 201207, 201208,\n        201209, 201210, 201211, 201212, 201301, 201302, 201303, 201304,\n        201305, 201306, 201307, 201308, 201309, 201310, 201311, 201312,\n        201401, 201402, 201403, 201404, 201405, 201406, 201407, 201408,\n        201409, 201410, 201411, 201412, 201501, 201502, 201503, 201504,\n        201505, 201506, 201507, 201508, 201509, 201510, 201511, 201512,\n        201601, 201602, 201603, 201604, 201605, 201606, 201607, 201608,\n        201609, 201610, 201611, 201612, 201701, 201702, 201703, 201704,\n        201705, 201706, 201707, 201708, 201709, 201710], dtype=int64),\n array([ 42,  43,  44,  45,  46,  44,  46,  45,  47,  48,  49,  51,  51,\n         50,  52,  53,  55,  55,  56,  57,  59,  59,  61,  60,  62,  62,\n         61,  61,  63,  65,  66,  69,  71,  73,  74,  75,  78,  79,  80,\n         80,  82,  83,  86,  87,  89,  89,  90,  91,  92,  94,  98, 100,\n        100, 103, 105, 105, 109, 112, 118, 118, 120, 121, 125, 126, 126,\n        130, 135, 136, 140, 140], dtype=int64))"
      ]
     },
     "execution_count": 10,
     "metadata": {},
     "output_type": "execute_result"
    }
   ],
   "source": [
    "np.unique(sale_quantity_perclass['sale_date'],return_counts=True)"
   ]
  },
  {
   "cell_type": "code",
   "execution_count": 13,
   "metadata": {
    "collapsed": false
   },
   "outputs": [],
   "source": [
    "classes, class_sale_counts = np.unique(sale_quantity_perclass['class_id'],return_counts=True)"
   ]
  },
  {
   "cell_type": "code",
   "execution_count": 14,
   "metadata": {},
   "outputs": [
    {
     "data": {
      "text/plain": [
       "array([125403, 136916, 178529, 209945, 248352, 281301, 290854, 291086,\n       304458, 321683, 349023, 354068, 379876, 384924, 409854, 425432,\n       468392, 472603, 482497, 527809, 559132, 576298, 580470, 597927,\n       603972, 614059, 628041, 651347, 682651, 713651, 714152, 735971,\n       819061, 883691, 914348, 961362, 961962], dtype=int64)"
      ]
     },
     "execution_count": 14,
     "metadata": {},
     "output_type": "execute_result"
    }
   ],
   "source": [
    "classes_most_recorded = classes[class_sale_counts>=70]\n",
    "classes_most_recorded"
   ]
  },
  {
   "cell_type": "code",
   "execution_count": 17,
   "metadata": {},
   "outputs": [],
   "source": [
    "figure = plt.figure()\n",
    "for id in classes_most_recorded:\n",
    "    tp = sale_quantity_perclass[sale_quantity_perclass.class_id == id]\n",
    "    plt.plot(tp.sale_quantity)\n",
    "plt.show()\n",
    "    "
   ]
  },
  {
   "cell_type": "code",
   "execution_count": null,
   "metadata": {},
   "outputs": [],
   "source": []
  }
 ],
 "metadata": {
  "kernelspec": {
   "display_name": "Python 2",
   "language": "python",
   "name": "python2"
  },
  "language_info": {
   "codemirror_mode": {
    "name": "ipython",
    "version": 2
   },
   "file_extension": ".py",
   "mimetype": "text/x-python",
   "name": "python",
   "nbconvert_exporter": "python",
   "pygments_lexer": "ipython2",
   "version": "2.7.6"
  }
 },
 "nbformat": 4,
 "nbformat_minor": 0
}
